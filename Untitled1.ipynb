{
  "nbformat": 4,
  "nbformat_minor": 0,
  "metadata": {
    "colab": {
      "name": "Untitled1.ipynb",
      "provenance": [],
      "collapsed_sections": []
    },
    "kernelspec": {
      "name": "python3",
      "display_name": "Python 3"
    },
    "language_info": {
      "name": "python"
    }
  },
  "cells": [
    {
      "cell_type": "code",
      "metadata": {
        "id": "40P3nhoZXcxX"
      },
      "source": [
        "import csv\n",
        "import os\n",
        "import pandas as pd\n",
        "import numpy as np\n",
        "import matplotlib.pyplot as plt\n",
        "from datetime import datetime"
      ],
      "execution_count": null,
      "outputs": []
    },
    {
      "cell_type": "code",
      "metadata": {
        "id": "x4LBoGfFd81F"
      },
      "source": [
        "# Read file\n",
        "file = pd.read_csv('/content/googleplaystore.csv - googleplaystore.csv.csv')"
      ],
      "execution_count": null,
      "outputs": []
    },
    {
      "cell_type": "code",
      "metadata": {
        "colab": {
          "base_uri": "https://localhost:8080/"
        },
        "id": "D1vo04LBia1X",
        "outputId": "974d28b6-b07b-471a-f3d0-b0c5a439e60a"
      },
      "source": [
        "# Print first 5 rows\n",
        "print(file[:5])"
      ],
      "execution_count": null,
      "outputs": [
        {
          "output_type": "stream",
          "name": "stdout",
          "text": [
            "                                                 App  ...   Android Ver\n",
            "0     Photo Editor & Candy Camera & Grid & ScrapBook  ...  4.0.3 and up\n",
            "1                                Coloring book moana  ...  4.0.3 and up\n",
            "2  U Launcher Lite – FREE Live Cool Themes, Hide ...  ...  4.0.3 and up\n",
            "3                              Sketch - Draw & Paint  ...    4.2 and up\n",
            "4              Pixel Draw - Number Art Coloring Book  ...    4.4 and up\n",
            "\n",
            "[5 rows x 13 columns]\n"
          ]
        }
      ]
    },
    {
      "cell_type": "code",
      "metadata": {
        "colab": {
          "base_uri": "https://localhost:8080/"
        },
        "id": "NhnRorAfiuNN",
        "outputId": "4c00694c-c507-4274-cefe-63b34406705c"
      },
      "source": [
        "# Count rows and columns\n",
        "size = file.shape\n",
        "print(f'Rows: {size[0]} , Columns: {size[1]}')"
      ],
      "execution_count": null,
      "outputs": [
        {
          "output_type": "stream",
          "name": "stdout",
          "text": [
            "Rows: 10841 , Columns: 13\n"
          ]
        }
      ]
    },
    {
      "cell_type": "code",
      "metadata": {
        "colab": {
          "base_uri": "https://localhost:8080/"
        },
        "id": "BcO0AdqvjJJF",
        "outputId": "b8b3632a-448a-4866-801b-173c8cb6a34c"
      },
      "source": [
        "# Print name columns\n",
        "print(', '.join(list(file.columns)))"
      ],
      "execution_count": null,
      "outputs": [
        {
          "output_type": "stream",
          "name": "stdout",
          "text": [
            "App, Category, Rating, Reviews, Size, Installs, Type, Price, Content Rating, Genres, Last Updated, Current Ver, Android Ver\n"
          ]
        }
      ]
    },
    {
      "cell_type": "code",
      "metadata": {
        "colab": {
          "base_uri": "https://localhost:8080/"
        },
        "id": "XhKhIeuXjVk9",
        "outputId": "7a24ddef-2312-435f-ed22-2880c4e95b1f"
      },
      "source": [
        "# Print datatypes columns\n",
        "print(file.dtypes)"
      ],
      "execution_count": null,
      "outputs": [
        {
          "output_type": "stream",
          "name": "stdout",
          "text": [
            "App                object\n",
            "Category           object\n",
            "Rating            float64\n",
            "Reviews            object\n",
            "Size               object\n",
            "Installs           object\n",
            "Type               object\n",
            "Price              object\n",
            "Content Rating     object\n",
            "Genres             object\n",
            "Last Updated       object\n",
            "Current Ver        object\n",
            "Android Ver        object\n",
            "dtype: object\n"
          ]
        }
      ]
    },
    {
      "cell_type": "code",
      "metadata": {
        "colab": {
          "base_uri": "https://localhost:8080/"
        },
        "id": "bnXw7pOKjdMO",
        "outputId": "ab7efc0d-0b98-40c7-ee43-4e630a64b4ba"
      },
      "source": [
        "# Print count unique values in columns\n",
        "print(file.apply(lambda col: len(col.unique())))"
      ],
      "execution_count": null,
      "outputs": [
        {
          "output_type": "stream",
          "name": "stdout",
          "text": [
            "App               9660\n",
            "Category            34\n",
            "Rating              41\n",
            "Reviews           6002\n",
            "Size               462\n",
            "Installs            22\n",
            "Type                 4\n",
            "Price               93\n",
            "Content Rating       7\n",
            "Genres             120\n",
            "Last Updated      1378\n",
            "Current Ver       2829\n",
            "Android Ver         34\n",
            "dtype: int64\n"
          ]
        }
      ]
    },
    {
      "cell_type": "code",
      "metadata": {
        "colab": {
          "base_uri": "https://localhost:8080/"
        },
        "id": "OrAH6nBZjybV",
        "outputId": "63ad0c35-f085-41d1-9711-f4b0a51e7b6e"
      },
      "source": [
        "# Print count empty values in columns\n",
        "print(file.apply(lambda col: np.count_nonzero(col.isnull())))"
      ],
      "execution_count": null,
      "outputs": [
        {
          "output_type": "stream",
          "name": "stdout",
          "text": [
            "App                  0\n",
            "Category             0\n",
            "Rating            1474\n",
            "Reviews              0\n",
            "Size                 0\n",
            "Installs             0\n",
            "Type                 1\n",
            "Price                0\n",
            "Content Rating       1\n",
            "Genres               0\n",
            "Last Updated         0\n",
            "Current Ver          8\n",
            "Android Ver          3\n",
            "dtype: int64\n"
          ]
        }
      ]
    },
    {
      "cell_type": "code",
      "metadata": {
        "colab": {
          "base_uri": "https://localhost:8080/"
        },
        "id": "xpseQ9j-kEre",
        "outputId": "7adae63b-586d-4549-ddad-cf02b267783e"
      },
      "source": [
        "\n",
        "file['Installs'] = file['Installs'].str.replace('+','',regex=True)\n",
        "file['Installs'] = file['Installs'].str.replace(',','',regex=True)\n",
        "file['Installs'] = pd.to_numeric(file.Installs,errors='coerce').fillna(0).astype(np.int64)\n",
        "\n",
        "file['Installs']"
      ],
      "execution_count": null,
      "outputs": [
        {
          "output_type": "execute_result",
          "data": {
            "text/plain": [
              "0           10000\n",
              "1          500000\n",
              "2         5000000\n",
              "3        50000000\n",
              "4          100000\n",
              "           ...   \n",
              "10836        5000\n",
              "10837         100\n",
              "10838        1000\n",
              "10839        1000\n",
              "10840    10000000\n",
              "Name: Installs, Length: 10841, dtype: int64"
            ]
          },
          "metadata": {},
          "execution_count": 11
        }
      ]
    },
    {
      "cell_type": "code",
      "metadata": {
        "colab": {
          "base_uri": "https://localhost:8080/",
          "height": 388
        },
        "id": "kdnQrbaatgkc",
        "outputId": "8c1f7ab2-763c-4192-9445-13957e32c84e"
      },
      "source": [
        "Pv1=pd.pivot_table(file, values='Installs', index=['Category'], aggfunc=np.sum)\n",
        "PV_G=Pv1.sort_values(by=['Installs'], ascending=False).iloc[:10]\n",
        "PV_G"
      ],
      "execution_count": null,
      "outputs": [
        {
          "output_type": "execute_result",
          "data": {
            "text/html": [
              "<div>\n",
              "<style scoped>\n",
              "    .dataframe tbody tr th:only-of-type {\n",
              "        vertical-align: middle;\n",
              "    }\n",
              "\n",
              "    .dataframe tbody tr th {\n",
              "        vertical-align: top;\n",
              "    }\n",
              "\n",
              "    .dataframe thead th {\n",
              "        text-align: right;\n",
              "    }\n",
              "</style>\n",
              "<table border=\"1\" class=\"dataframe\">\n",
              "  <thead>\n",
              "    <tr style=\"text-align: right;\">\n",
              "      <th></th>\n",
              "      <th>Installs</th>\n",
              "    </tr>\n",
              "    <tr>\n",
              "      <th>Category</th>\n",
              "      <th></th>\n",
              "    </tr>\n",
              "  </thead>\n",
              "  <tbody>\n",
              "    <tr>\n",
              "      <th>GAME</th>\n",
              "      <td>35086024415</td>\n",
              "    </tr>\n",
              "    <tr>\n",
              "      <th>COMMUNICATION</th>\n",
              "      <td>32647276251</td>\n",
              "    </tr>\n",
              "    <tr>\n",
              "      <th>PRODUCTIVITY</th>\n",
              "      <td>14176091369</td>\n",
              "    </tr>\n",
              "    <tr>\n",
              "      <th>SOCIAL</th>\n",
              "      <td>14069867902</td>\n",
              "    </tr>\n",
              "    <tr>\n",
              "      <th>TOOLS</th>\n",
              "      <td>11452771915</td>\n",
              "    </tr>\n",
              "    <tr>\n",
              "      <th>FAMILY</th>\n",
              "      <td>10258263505</td>\n",
              "    </tr>\n",
              "    <tr>\n",
              "      <th>PHOTOGRAPHY</th>\n",
              "      <td>10088247655</td>\n",
              "    </tr>\n",
              "    <tr>\n",
              "      <th>NEWS_AND_MAGAZINES</th>\n",
              "      <td>7496317760</td>\n",
              "    </tr>\n",
              "    <tr>\n",
              "      <th>TRAVEL_AND_LOCAL</th>\n",
              "      <td>6868887146</td>\n",
              "    </tr>\n",
              "    <tr>\n",
              "      <th>VIDEO_PLAYERS</th>\n",
              "      <td>6222002720</td>\n",
              "    </tr>\n",
              "  </tbody>\n",
              "</table>\n",
              "</div>"
            ],
            "text/plain": [
              "                       Installs\n",
              "Category                       \n",
              "GAME                35086024415\n",
              "COMMUNICATION       32647276251\n",
              "PRODUCTIVITY        14176091369\n",
              "SOCIAL              14069867902\n",
              "TOOLS               11452771915\n",
              "FAMILY              10258263505\n",
              "PHOTOGRAPHY         10088247655\n",
              "NEWS_AND_MAGAZINES   7496317760\n",
              "TRAVEL_AND_LOCAL     6868887146\n",
              "VIDEO_PLAYERS        6222002720"
            ]
          },
          "metadata": {},
          "execution_count": 12
        }
      ]
    },
    {
      "cell_type": "code",
      "metadata": {
        "colab": {
          "base_uri": "https://localhost:8080/"
        },
        "id": "H3jZkPcZqTfB",
        "outputId": "e6ec9935-b9c9-4ace-9eda-14ab6216b540"
      },
      "source": [
        "Pv_g=PV_G['Installs']\n",
        "Pv_g"
      ],
      "execution_count": null,
      "outputs": [
        {
          "output_type": "execute_result",
          "data": {
            "text/plain": [
              "Category\n",
              "GAME                  35086024415\n",
              "COMMUNICATION         32647276251\n",
              "PRODUCTIVITY          14176091369\n",
              "SOCIAL                14069867902\n",
              "TOOLS                 11452771915\n",
              "FAMILY                10258263505\n",
              "PHOTOGRAPHY           10088247655\n",
              "NEWS_AND_MAGAZINES     7496317760\n",
              "TRAVEL_AND_LOCAL       6868887146\n",
              "VIDEO_PLAYERS          6222002720\n",
              "Name: Installs, dtype: int64"
            ]
          },
          "metadata": {},
          "execution_count": 13
        }
      ]
    },
    {
      "cell_type": "code",
      "metadata": {
        "colab": {
          "base_uri": "https://localhost:8080/",
          "height": 385
        },
        "id": "FiZMRywHyOIf",
        "outputId": "e6b92379-535b-4bca-b8e0-f06c9629b5b1"
      },
      "source": [
        "x = np.arange(1, 11)\n",
        "y = Pv_g\n",
        "\n",
        "fig, ax = plt.subplots()\n",
        "\n",
        "ax.bar(x, y)\n",
        "\n",
        "ax.set_facecolor('seashell')\n",
        "fig.set_facecolor('floralwhite')\n",
        "fig.set_figwidth(12)    #  ширина Figure\n",
        "fig.set_figheight(6)    #  высота Figure\n",
        "\n",
        "plt.show()\n",
        "\n"
      ],
      "execution_count": null,
      "outputs": [
        {
          "output_type": "display_data",
          "data": {
            "image/png": "[encoded data removed]",
            "text/plain": [
              "<Figure size 864x432 with 1 Axes>"
            ]
          },
          "metadata": {}
        }
      ]
    },
    {
      "cell_type": "code",
      "metadata": {
        "colab": {
          "base_uri": "https://localhost:8080/"
        },
        "id": "7L1Oyn9T0bEI",
        "outputId": "84968163-f8e2-4457-ba8a-a95d865ababb"
      },
      "source": [
        "file.columns"
      ],
      "execution_count": null,
      "outputs": [
        {
          "output_type": "execute_result",
          "data": {
            "text/plain": [
              "Index(['App', 'Category', 'Rating', 'Reviews', 'Size', 'Installs', 'Type',\n",
              "       'Price', 'Content Rating', 'Genres', 'Last Updated', 'Current Ver',\n",
              "       'Android Ver'],\n",
              "      dtype='object')"
            ]
          },
          "metadata": {},
          "execution_count": 15
        }
      ]
    },
    {
      "cell_type": "code",
      "metadata": {
        "colab": {
          "base_uri": "https://localhost:8080/",
          "height": 110
        },
        "id": "PSANliPBO9IV",
        "outputId": "fd072cfd-5223-4282-c0c8-167069d55a76"
      },
      "source": [
        "df0 = file.loc[(file['Category']=='SHOPPING') & (file['Type']=='Free')]\n",
        "df0_pt = pd.pivot_table(df0,  values='Installs',index=['Category'], aggfunc=np.sum)\n",
        "df0_pt\n",
        "\n",
        "\n"
      ],
      "execution_count": null,
      "outputs": [
        {
          "output_type": "execute_result",
          "data": {
            "text/html": [
              "<div>\n",
              "<style scoped>\n",
              "    .dataframe tbody tr th:only-of-type {\n",
              "        vertical-align: middle;\n",
              "    }\n",
              "\n",
              "    .dataframe tbody tr th {\n",
              "        vertical-align: top;\n",
              "    }\n",
              "\n",
              "    .dataframe thead th {\n",
              "        text-align: right;\n",
              "    }\n",
              "</style>\n",
              "<table border=\"1\" class=\"dataframe\">\n",
              "  <thead>\n",
              "    <tr style=\"text-align: right;\">\n",
              "      <th></th>\n",
              "      <th>Installs</th>\n",
              "    </tr>\n",
              "    <tr>\n",
              "      <th>Category</th>\n",
              "      <th></th>\n",
              "    </tr>\n",
              "  </thead>\n",
              "  <tbody>\n",
              "    <tr>\n",
              "      <th>SHOPPING</th>\n",
              "      <td>3247838685</td>\n",
              "    </tr>\n",
              "  </tbody>\n",
              "</table>\n",
              "</div>"
            ],
            "text/plain": [
              "            Installs\n",
              "Category            \n",
              "SHOPPING  3247838685"
            ]
          },
          "metadata": {},
          "execution_count": 16
        }
      ]
    },
    {
      "cell_type": "code",
      "metadata": {
        "colab": {
          "base_uri": "https://localhost:8080/",
          "height": 110
        },
        "id": "FJuK6KuVYUnI",
        "outputId": "ea74987a-4fb0-4437-f4ae-da8d4bce2aad"
      },
      "source": [
        "df00 = file.loc[(file['Category']=='EDUCATION') & (file['Type']=='Paid')]\n",
        "df00_pt = pd.pivot_table(df00, values='Installs', index=['Category'], aggfunc=np.sum)\n",
        "df00_pt"
      ],
      "execution_count": null,
      "outputs": [
        {
          "output_type": "execute_result",
          "data": {
            "text/html": [
              "<div>\n",
              "<style scoped>\n",
              "    .dataframe tbody tr th:only-of-type {\n",
              "        vertical-align: middle;\n",
              "    }\n",
              "\n",
              "    .dataframe tbody tr th {\n",
              "        vertical-align: top;\n",
              "    }\n",
              "\n",
              "    .dataframe thead th {\n",
              "        text-align: right;\n",
              "    }\n",
              "</style>\n",
              "<table border=\"1\" class=\"dataframe\">\n",
              "  <thead>\n",
              "    <tr style=\"text-align: right;\">\n",
              "      <th></th>\n",
              "      <th>Installs</th>\n",
              "    </tr>\n",
              "    <tr>\n",
              "      <th>Category</th>\n",
              "      <th></th>\n",
              "    </tr>\n",
              "  </thead>\n",
              "  <tbody>\n",
              "    <tr>\n",
              "      <th>EDUCATION</th>\n",
              "      <td>602000</td>\n",
              "    </tr>\n",
              "  </tbody>\n",
              "</table>\n",
              "</div>"
            ],
            "text/plain": [
              "           Installs\n",
              "Category           \n",
              "EDUCATION    602000"
            ]
          },
          "metadata": {},
          "execution_count": 17
        }
      ]
    },
    {
      "cell_type": "code",
      "metadata": {
        "colab": {
          "base_uri": "https://localhost:8080/"
        },
        "id": "5Sb0XXOJc5wS",
        "outputId": "709621d1-1797-4087-f21e-61523e3a9481"
      },
      "source": [
        "df01 = file.loc[(file['Category']=='SHOPPING') | (file['Category']=='EDUCATION')]\n",
        "df01_pt = pd.pivot_table(df01,  values='Installs',index=['Category'],columns='Type', aggfunc=np.sum)\n",
        "df01_pt.max"
      ],
      "execution_count": null,
      "outputs": [
        {
          "output_type": "execute_result",
          "data": {
            "text/plain": [
              "<bound method DataFrame.max of Type             Free    Paid\n",
              "Category                     \n",
              "EDUCATION   870850000  602000\n",
              "SHOPPING   3247838685   10100>"
            ]
          },
          "metadata": {},
          "execution_count": 18
        }
      ]
    },
    {
      "cell_type": "code",
      "metadata": {
        "colab": {
          "base_uri": "https://localhost:8080/",
          "height": 203
        },
        "id": "bV6ySk6R819a",
        "outputId": "a48f4a5e-bfc3-424d-a314-0f58f474e8c2"
      },
      "source": [
        "df1 = file.loc[(file['Category']=='GAME') & (file['Type']=='Paid')]\n",
        "df1_pt = pd.pivot_table(df1, values='Installs', index=['Content Rating'], aggfunc='count')\n",
        "df1_pt['Share'] = df1_pt['Installs']*100/len(df1)\n",
        "df1_pt"
      ],
      "execution_count": null,
      "outputs": [
        {
          "output_type": "execute_result",
          "data": {
            "text/html": [
              "<div>\n",
              "<style scoped>\n",
              "    .dataframe tbody tr th:only-of-type {\n",
              "        vertical-align: middle;\n",
              "    }\n",
              "\n",
              "    .dataframe tbody tr th {\n",
              "        vertical-align: top;\n",
              "    }\n",
              "\n",
              "    .dataframe thead th {\n",
              "        text-align: right;\n",
              "    }\n",
              "</style>\n",
              "<table border=\"1\" class=\"dataframe\">\n",
              "  <thead>\n",
              "    <tr style=\"text-align: right;\">\n",
              "      <th></th>\n",
              "      <th>Installs</th>\n",
              "      <th>Share</th>\n",
              "    </tr>\n",
              "    <tr>\n",
              "      <th>Content Rating</th>\n",
              "      <th></th>\n",
              "      <th></th>\n",
              "    </tr>\n",
              "  </thead>\n",
              "  <tbody>\n",
              "    <tr>\n",
              "      <th>Everyone</th>\n",
              "      <td>45</td>\n",
              "      <td>54.216867</td>\n",
              "    </tr>\n",
              "    <tr>\n",
              "      <th>Everyone 10+</th>\n",
              "      <td>9</td>\n",
              "      <td>10.843373</td>\n",
              "    </tr>\n",
              "    <tr>\n",
              "      <th>Mature 17+</th>\n",
              "      <td>4</td>\n",
              "      <td>4.819277</td>\n",
              "    </tr>\n",
              "    <tr>\n",
              "      <th>Teen</th>\n",
              "      <td>25</td>\n",
              "      <td>30.120482</td>\n",
              "    </tr>\n",
              "  </tbody>\n",
              "</table>\n",
              "</div>"
            ],
            "text/plain": [
              "                Installs      Share\n",
              "Content Rating                     \n",
              "Everyone              45  54.216867\n",
              "Everyone 10+           9  10.843373\n",
              "Mature 17+             4   4.819277\n",
              "Teen                  25  30.120482"
            ]
          },
          "metadata": {},
          "execution_count": 19
        }
      ]
    },
    {
      "cell_type": "code",
      "metadata": {
        "colab": {
          "base_uri": "https://localhost:8080/",
          "height": 234
        },
        "id": "NuD2BzXJvPl_",
        "outputId": "de594113-c8ee-40cb-fd91-3ede74072a55"
      },
      "source": [
        "df04 = file.loc[(file['Type']=='Paid')]\n",
        "Pv4=pd.pivot_table(df04, values='Reviews', index=['Category'], aggfunc=np.sum)\n",
        "Pv4.sort_values(by=['Reviews'], ascending=False).iloc[:5]"
      ],
      "execution_count": null,
      "outputs": [
        {
          "output_type": "execute_result",
          "data": {
            "text/html": [
              "<div>\n",
              "<style scoped>\n",
              "    .dataframe tbody tr th:only-of-type {\n",
              "        vertical-align: middle;\n",
              "    }\n",
              "\n",
              "    .dataframe tbody tr th {\n",
              "        vertical-align: top;\n",
              "    }\n",
              "\n",
              "    .dataframe thead th {\n",
              "        text-align: right;\n",
              "    }\n",
              "</style>\n",
              "<table border=\"1\" class=\"dataframe\">\n",
              "  <thead>\n",
              "    <tr style=\"text-align: right;\">\n",
              "      <th></th>\n",
              "      <th>Reviews</th>\n",
              "    </tr>\n",
              "    <tr>\n",
              "      <th>Category</th>\n",
              "      <th></th>\n",
              "    </tr>\n",
              "  </thead>\n",
              "  <tbody>\n",
              "    <tr>\n",
              "      <th>PERSONALIZATION</th>\n",
              "      <td>9789058617159188140704729183153155714026059892...</td>\n",
              "    </tr>\n",
              "    <tr>\n",
              "      <th>FAMILY</th>\n",
              "      <td>9616982332831100854560197309738438214248185219...</td>\n",
              "    </tr>\n",
              "    <tr>\n",
              "      <th>PARENTING</th>\n",
              "      <td>834323</td>\n",
              "    </tr>\n",
              "    <tr>\n",
              "      <th>ART_AND_DESIGN</th>\n",
              "      <td>8011216149</td>\n",
              "    </tr>\n",
              "    <tr>\n",
              "      <th>ENTERTAINMENT</th>\n",
              "      <td>62383771</td>\n",
              "    </tr>\n",
              "  </tbody>\n",
              "</table>\n",
              "</div>"
            ],
            "text/plain": [
              "                                                           Reviews\n",
              "Category                                                          \n",
              "PERSONALIZATION  9789058617159188140704729183153155714026059892...\n",
              "FAMILY           9616982332831100854560197309738438214248185219...\n",
              "PARENTING                                                   834323\n",
              "ART_AND_DESIGN                                          8011216149\n",
              "ENTERTAINMENT                                             62383771"
            ]
          },
          "metadata": {},
          "execution_count": 20
        }
      ]
    },
    {
      "cell_type": "code",
      "metadata": {
        "id": "n1qYI-58ttZO",
        "colab": {
          "base_uri": "https://localhost:8080/",
          "height": 417
        },
        "outputId": "524104d2-b349-41ed-cd2d-994d98174cc1"
      },
      "source": [
        "file['Last Updated'] = file['Last Updated'].str.replace('  ',' ',regex=True)\n",
        "file['Last Updated'] = file['Last Updated'].str.replace(' ','-',regex=True)\n",
        "file['Last Updated'] = file['Last Updated'].str.replace(',','',regex=True)\n",
        "\n",
        "file['Last Updated'] = file['Last Updated'].str.replace('January','01',regex=True)\n",
        "file['Last Updated'] = file['Last Updated'].str.replace('February','02',regex=True)\n",
        "file['Last Updated'] = file['Last Updated'].str.replace('March','03',regex=True)\n",
        "file['Last Updated'] = file['Last Updated'].str.replace('April','04',regex=True)\n",
        "file['Last Updated'] = file['Last Updated'].str.replace('May','05',regex=True)\n",
        "file['Last Updated'] = file['Last Updated'].str.replace('June','06',regex=True)\n",
        "file['Last Updated'] = file['Last Updated'].str.replace('July','07',regex=True)\n",
        "file['Last Updated'] = file['Last Updated'].str.replace('August','08',regex=True)\n",
        "file['Last Updated'] = file['Last Updated'].str.replace('Septembert','09',regex=True)\n",
        "file['Last Updated'] = file['Last Updated'].str.replace('October','10',regex=True)\n",
        "file['Last Updated'] = file['Last Updated'].str.replace('November','11',regex=True)\n",
        "file['Last Updated'] = file['Last Updated'].str.replace('December','12',regex=True)\n",
        "\n",
        "\n",
        "\n",
        "\n",
        "last_upd = file.loc[(file['Last Updated']<'2016-11-11') & (file['Category']=='FAMILY') & (file['Type']<='Paid'), ['App', 'Last Updated', 'Category', 'Type']]\n",
        "last_upd\n"
      ],
      "execution_count": null,
      "outputs": [
        {
          "output_type": "execute_result",
          "data": {
            "text/html": [
              "<div>\n",
              "<style scoped>\n",
              "    .dataframe tbody tr th:only-of-type {\n",
              "        vertical-align: middle;\n",
              "    }\n",
              "\n",
              "    .dataframe tbody tr th {\n",
              "        vertical-align: top;\n",
              "    }\n",
              "\n",
              "    .dataframe thead th {\n",
              "        text-align: right;\n",
              "    }\n",
              "</style>\n",
              "<table border=\"1\" class=\"dataframe\">\n",
              "  <thead>\n",
              "    <tr style=\"text-align: right;\">\n",
              "      <th></th>\n",
              "      <th>App</th>\n",
              "      <th>Last Updated</th>\n",
              "      <th>Category</th>\n",
              "      <th>Type</th>\n",
              "    </tr>\n",
              "  </thead>\n",
              "  <tbody>\n",
              "    <tr>\n",
              "      <th>2014</th>\n",
              "      <td>YouTube Kids</td>\n",
              "      <td>08-3-2018</td>\n",
              "      <td>FAMILY</td>\n",
              "      <td>Free</td>\n",
              "    </tr>\n",
              "    <tr>\n",
              "      <th>2015</th>\n",
              "      <td>Candy Bomb</td>\n",
              "      <td>07-4-2018</td>\n",
              "      <td>FAMILY</td>\n",
              "      <td>Free</td>\n",
              "    </tr>\n",
              "    <tr>\n",
              "      <th>2016</th>\n",
              "      <td>ROBLOX</td>\n",
              "      <td>07-31-2018</td>\n",
              "      <td>FAMILY</td>\n",
              "      <td>Free</td>\n",
              "    </tr>\n",
              "    <tr>\n",
              "      <th>2017</th>\n",
              "      <td>Jewels Crush- Match 3 Puzzle</td>\n",
              "      <td>07-23-2018</td>\n",
              "      <td>FAMILY</td>\n",
              "      <td>Free</td>\n",
              "    </tr>\n",
              "    <tr>\n",
              "      <th>2018</th>\n",
              "      <td>Coloring &amp; Learn</td>\n",
              "      <td>07-17-2018</td>\n",
              "      <td>FAMILY</td>\n",
              "      <td>Free</td>\n",
              "    </tr>\n",
              "    <tr>\n",
              "      <th>...</th>\n",
              "      <td>...</td>\n",
              "      <td>...</td>\n",
              "      <td>...</td>\n",
              "      <td>...</td>\n",
              "    </tr>\n",
              "    <tr>\n",
              "      <th>10821</th>\n",
              "      <td>Poop FR</td>\n",
              "      <td>05-29-2018</td>\n",
              "      <td>FAMILY</td>\n",
              "      <td>Free</td>\n",
              "    </tr>\n",
              "    <tr>\n",
              "      <th>10827</th>\n",
              "      <td>Fr Agnel Ambarnath</td>\n",
              "      <td>06-13-2018</td>\n",
              "      <td>FAMILY</td>\n",
              "      <td>Free</td>\n",
              "    </tr>\n",
              "    <tr>\n",
              "      <th>10834</th>\n",
              "      <td>FR Calculator</td>\n",
              "      <td>06-18-2017</td>\n",
              "      <td>FAMILY</td>\n",
              "      <td>Free</td>\n",
              "    </tr>\n",
              "    <tr>\n",
              "      <th>10836</th>\n",
              "      <td>Sya9a Maroc - FR</td>\n",
              "      <td>07-25-2017</td>\n",
              "      <td>FAMILY</td>\n",
              "      <td>Free</td>\n",
              "    </tr>\n",
              "    <tr>\n",
              "      <th>10837</th>\n",
              "      <td>Fr. Mike Schmitz Audio Teachings</td>\n",
              "      <td>07-6-2018</td>\n",
              "      <td>FAMILY</td>\n",
              "      <td>Free</td>\n",
              "    </tr>\n",
              "  </tbody>\n",
              "</table>\n",
              "<p>1897 rows × 4 columns</p>\n",
              "</div>"
            ],
            "text/plain": [
              "                                    App Last Updated Category  Type\n",
              "2014                       YouTube Kids    08-3-2018   FAMILY  Free\n",
              "2015                         Candy Bomb    07-4-2018   FAMILY  Free\n",
              "2016                             ROBLOX   07-31-2018   FAMILY  Free\n",
              "2017       Jewels Crush- Match 3 Puzzle   07-23-2018   FAMILY  Free\n",
              "2018                   Coloring & Learn   07-17-2018   FAMILY  Free\n",
              "...                                 ...          ...      ...   ...\n",
              "10821                           Poop FR   05-29-2018   FAMILY  Free\n",
              "10827                Fr Agnel Ambarnath   06-13-2018   FAMILY  Free\n",
              "10834                     FR Calculator   06-18-2017   FAMILY  Free\n",
              "10836                  Sya9a Maroc - FR   07-25-2017   FAMILY  Free\n",
              "10837  Fr. Mike Schmitz Audio Teachings    07-6-2018   FAMILY  Free\n",
              "\n",
              "[1897 rows x 4 columns]"
            ]
          },
          "metadata": {},
          "execution_count": 22
        }
      ]
    }
  ]
}